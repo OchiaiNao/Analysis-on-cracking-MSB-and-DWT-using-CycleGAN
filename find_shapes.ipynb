{
 "cells": [
  {
   "cell_type": "code",
   "execution_count": null,
   "metadata": {
    "collapsed": false
   },
   "outputs": [],
   "source": [
    "import os\n",
    "from collections import defaultdict\n",
    "from PIL import Image\n",
    "from shutil import move\n",
    "\n",
    "# Dir for your dataset\n",
    "src_dir = './datasets'\n",
    "# For the most, folder most, for the third most, third\n",
    "dst_dir = './most'\n",
    "\n",
    "os.makedirs(dst_dir, exist_ok=True)\n",
    "\n",
    "image_sizes = defaultdict(int)\n",
    "\n",
    "for filename in os.listdir(src_dir):\n",
    "    filepath = os.path.join(src_dir, filename)\n",
    "\n",
    "    if os.path.isfile(filepath) and filename.lower().endswith(('.png', '.jpg', '.jpeg', '.gif', '.bmp')):\n",
    "        try:\n",
    "            with Image.open(filepath) as img:\n",
    "                width, height = img.size\n",
    "                size = (width, height)\n",
    "\n",
    "                image_sizes[size] += 1\n",
    "        except PermissionError:\n",
    "            print(f\"Warning: Could not access file {filename}. Skipping.\")\n",
    "\n",
    "\n",
    "# Find max_size\n",
    "# max_size = max(image_sizes, key=image_sizes.get)\n",
    "\n",
    "sorted_sizes = sorted(image_sizes.items(), key=lambda x: x[1], reverse=True)\n",
    "\n",
    "# Get the image size with the third-highest count\n",
    "third_max_size = sorted_sizes[2][0] if len(sorted_sizes) > 2 else None\n",
    "\n",
    "\n",
    "for filename in os.listdir(src_dir):\n",
    "    filepath = os.path.join(src_dir, filename)\n",
    "\n",
    "    if os.path.isfile(filepath) and filename.lower().endswith(('.png', '.jpg', '.jpeg', '.gif', '.bmp')):\n",
    "        try:\n",
    "            with Image.open(filepath) as img:\n",
    "                size = img.size\n",
    "\n",
    "                if size == third_max_size:\n",
    "                    move(filepath, os.path.join(dst_dir, filename))\n",
    "        except PermissionError:\n",
    "            print(f\"Warning: Could not move file {filename}. Skipping.\")\n",
    "\n",
    "print(f'Moved images with size {third_max_size} to {dst_dir}.')\n"
   ]
  },
  {
   "cell_type": "code",
   "execution_count": null,
   "metadata": {},
   "outputs": [],
   "source": [
    "import cv2\n",
    "\n",
    "# Need to do it for most and third\n",
    "path = './most'\n",
    "\n",
    "# Loop through all files in the directory\n",
    "for filename in os.listdir(path):\n",
    "    # Check if the file is an image\n",
    "    if filename.endswith('.jpg') or filename.endswith('.jpeg') or filename.endswith('.png'):\n",
    "        # Read the image using OpenCV\n",
    "        img = cv2.imread(os.path.join(path, filename))\n",
    "\n",
    "        # Convert the image to grayscale\n",
    "        gray = cv2.cvtColor(img, cv2.COLOR_BGR2GRAY)\n",
    "\n",
    "        # For third, please resize it\n",
    "        # resized_img = cv2.resize(gray, (1024, 768))\n",
    "        \n",
    "        # Save the grayscale image with the same name\n",
    "        cv2.imwrite(os.path.join(path, filename), gray)\n"
   ]
  },
  {
   "cell_type": "code",
   "execution_count": null,
   "metadata": {},
   "outputs": [],
   "source": []
  }
 ],
 "metadata": {
  "kernelspec": {
   "display_name": "Python 3",
   "language": "python",
   "name": "python3"
  },
  "language_info": {
   "codemirror_mode": {
    "name": "ipython",
    "version": 2
   },
   "file_extension": ".py",
   "mimetype": "text/x-python",
   "name": "python",
   "nbconvert_exporter": "python",
   "pygments_lexer": "ipython2",
   "version": "2.7.6"
  }
 },
 "nbformat": 4,
 "nbformat_minor": 0
}
